{
 "cells": [
  {
   "cell_type": "code",
   "execution_count": null,
   "metadata": {},
   "outputs": [],
   "source": [
    "import pandas as pd\n",
    "import numpy as np\n",
    "import seaborn as sns\n",
    "import matplotlib.pyplot as plt\n",
    "import tensorflow as tf\n",
    "from tensorflow.keras.models import Sequential\n",
    "from tensorflow.keras.layers import Dense\n",
    "from tensorflow.keras.initializers import Constant\n",
    "from tensorflow.keras import optimizers, losses\n",
    "from tensorflow.keras import callbacks\n",
    "\n",
    "from scipy.spatial.distance import pdist, squareform\n",
    "from scipy import stats\n",
    "from scipy.stats import norm, skew\n",
    "from sklearn.decomposition import PCA"
   ]
  },
  {
   "cell_type": "code",
   "execution_count": null,
   "metadata": {},
   "outputs": [],
   "source": [
    "print(tf.__version__)"
   ]
  },
  {
   "cell_type": "markdown",
   "metadata": {},
   "source": [
    "## 1 DATA"
   ]
  },
  {
   "cell_type": "code",
   "execution_count": null,
   "metadata": {
    "scrolled": true
   },
   "outputs": [],
   "source": [
    "cisco = pd.read_csv('cisco.csv')\n",
    "cisco['Date'] = pd.to_datetime(cisco['Date'])\n",
    "cisco.head()"
   ]
  },
  {
   "cell_type": "code",
   "execution_count": null,
   "metadata": {},
   "outputs": [],
   "source": [
    "print('Missing values:', cisco.isnull().sum().sum())\n",
    "print('Data types:', cisco.dtypes.value_counts())\n",
    "print('Data shape:', cisco.shape)"
   ]
  },
  {
   "cell_type": "markdown",
   "metadata": {},
   "source": [
    "## 2 Pre procesing data.Statistical check"
   ]
  },
  {
   "cell_type": "code",
   "execution_count": null,
   "metadata": {},
   "outputs": [],
   "source": [
    "sns.set(rc={'figure.figsize':(20, 10)})\n",
    "sns.set_style(\"whitegrid\")\n",
    "cisco[['Cisco Systems']].plot(linewidth=0.7)"
   ]
  },
  {
   "cell_type": "code",
   "execution_count": null,
   "metadata": {
    "scrolled": true
   },
   "outputs": [],
   "source": [
    "sns.distplot(cisco['Cisco Systems'], fit=norm);\n",
    "\n",
    "# Get the fitted parameters used by the function\n",
    "(mu, sigma) = norm.fit(cisco['Cisco Systems'])\n",
    "print( '\\n mu = {:.2f} and sigma = {:.2f}\\n'.format(mu, sigma))\n",
    "\n",
    "#Now plot the distribution\n",
    "plt.legend(['Normal dist. ($\\mu=$ {:.2f} and $\\sigma=$ {:.2f} )'.format(mu, sigma)],\n",
    "            loc='best')\n",
    "plt.ylabel('Frequency')\n",
    "plt.title('StockPrice distribution')\n",
    "\n",
    "#Get also the QQ-plot\n",
    "fig = plt.figure()\n",
    "res = stats.probplot(cisco['Cisco Systems'], plot=plt)\n",
    "plt.show()"
   ]
  },
  {
   "cell_type": "code",
   "execution_count": null,
   "metadata": {},
   "outputs": [],
   "source": [
    "d = cisco.copy(deep = True)\n",
    "d.set_index('Date', inplace = True)"
   ]
  },
  {
   "cell_type": "code",
   "execution_count": null,
   "metadata": {
    "scrolled": false
   },
   "outputs": [],
   "source": [
    "#stock prices for 10 companies after normalization\n",
    "sns.set(rc={'figure.figsize':(20, 10)})\n",
    "sns.set_style(\"whitegrid\")\n",
    "d[['Cisco Systems']].plot(linewidth=0.7)"
   ]
  },
  {
   "cell_type": "code",
   "execution_count": null,
   "metadata": {},
   "outputs": [],
   "source": [
    "#rename columns\n",
    "d.columns = ['S']\n",
    "d.head()"
   ]
  },
  {
   "cell_type": "markdown",
   "metadata": {},
   "source": [
    "## 3 Training and Test sets for an MLP predictor"
   ]
  },
  {
   "cell_type": "markdown",
   "metadata": {},
   "source": [
    "Frame a time series as a supervised learning dataset.\n",
    "\n",
    "Arguments:\n",
    "\n",
    "data: Sequence of observations as a list or NumPy array\n",
    "\n",
    "n_in: Number of lag observations as input (X)\n",
    "\n",
    "n_out: Number of observations as output (y)\n",
    "\n",
    "dropnan: Boolean whether or not to drop rows with NaN values\n",
    "\n",
    "Returns:\n",
    "Pandas DataFrame of series framed for supervised learning."
   ]
  },
  {
   "cell_type": "code",
   "execution_count": null,
   "metadata": {},
   "outputs": [],
   "source": [
    "def series_to_supervised(data, n_in=1, n_out=1, dropnan=True):\n",
    "    #n_vars = 1 if type(data) is list else data.shape[1]\n",
    "    variables = list(data.columns)\n",
    "    df = data.copy(deep = True)\n",
    "    cols, names = list(), list()\n",
    "    #input sequence (t-n, ... t-1)\n",
    "    for i in range(n_in, 0, -1):\n",
    "        cols.append(df.shift(i))\n",
    "        names += ['{}(t-{})'.format(j, i) for j in variables]\n",
    "    #forecast sequence (t, t+1, ... t+n)\n",
    "    for i in range(0, n_out):\n",
    "        cols.append(df.shift(-i))\n",
    "        if i == 0:\n",
    "            names += ['{}(t)'.format(j) for j in variables]\n",
    "        else:\n",
    "            names += ['{}(t+{})'.format(j, i) for j in variables]\n",
    "  # put it all together\n",
    "    agg = pd.concat(cols, axis=1)\n",
    "    agg.columns = names\n",
    "    # drop rows with NaN values\n",
    "    if dropnan:\n",
    "        agg.dropna(inplace=True)\n",
    "    return agg"
   ]
  },
  {
   "cell_type": "code",
   "execution_count": null,
   "metadata": {},
   "outputs": [],
   "source": [
    "means = d.loc[:,'Cisco Systems'].mean()\n",
    "d.loc[:,'Cisco Systems'] = d.loc[:,'Cisco Systems']/means"
   ]
  },
  {
   "cell_type": "code",
   "execution_count": null,
   "metadata": {},
   "outputs": [],
   "source": [
    "df = series_to_supervised(d.loc[:,'S':], n_in=19, n_out=2, dropnan=False)"
   ]
  },
  {
   "cell_type": "code",
   "execution_count": null,
   "metadata": {
    "scrolled": false
   },
   "outputs": [],
   "source": [
    "df.shape"
   ]
  },
  {
   "cell_type": "code",
   "execution_count": null,
   "metadata": {
    "scrolled": true
   },
   "outputs": [],
   "source": [
    "df.dropna(inplace = True)\n",
    "df.shape"
   ]
  },
  {
   "cell_type": "code",
   "execution_count": null,
   "metadata": {},
   "outputs": [],
   "source": [
    "df.loc[:,'MA5'] = df.loc[:,'S(t-4)':'S(t)'].mean(axis=1)\n",
    "df.loc[:,'MA10'] = df.loc[:,'S(t-9)':'S(t)'].mean(axis=1)\n",
    "df.loc[:,'MA20'] = df.loc[:,'S(t-19)':'S(t)'].mean(axis=1)"
   ]
  },
  {
   "cell_type": "code",
   "execution_count": null,
   "metadata": {},
   "outputs": [],
   "source": [
    "#shape is 300 because it is all 50 stocks of t+1. Remove all except Y1(t+1) for AAPL\n",
    "df.drop(columns = list(df.columns)[:5], inplace = True)\n",
    "df = df[['MA5','MA10','MA20','S(t)','S(t-1)','S(t-2)','S(t-3)','S(t-4)', 'S(t-5)','S(t-6)',\n",
    "         'S(t-7)', 'S(t-8)','S(t-9)', 'S(t-10)', 'S(t-11)','S(t-12)','S(t-13)','S(t-14)','S(t+1)']]\n",
    "df.shape"
   ]
  },
  {
   "cell_type": "code",
   "execution_count": null,
   "metadata": {},
   "outputs": [],
   "source": [
    "plt.figure(figsize=(15,8))\n",
    "plt.plot(df['S(t)'],label='S(t)')\n",
    "plt.plot(df['MA5'],label='MA5(t)')\n",
    "plt.plot(df['MA10'],label='MA10(t)')\n",
    "plt.plot(df['MA20'],label='MA20(t)')\n",
    "plt.legend()\n",
    "plt.show()"
   ]
  },
  {
   "cell_type": "code",
   "execution_count": null,
   "metadata": {},
   "outputs": [],
   "source": [
    "sns.set(rc={'figure.figsize':(20, 15)})\n",
    "sns.set_style(\"whitegrid\")\n",
    "df[['S(t)']].plot(linewidth=0.7)"
   ]
  },
  {
   "cell_type": "code",
   "execution_count": null,
   "metadata": {},
   "outputs": [],
   "source": [
    "sns.set(rc={'figure.figsize':(20, 15)})\n",
    "sns.set_style(\"whitegrid\")\n",
    "df[['MA5']].plot(linewidth=0.7)"
   ]
  },
  {
   "cell_type": "code",
   "execution_count": null,
   "metadata": {},
   "outputs": [],
   "source": [
    "sns.set(rc={'figure.figsize':(20, 15)})\n",
    "sns.set_style(\"whitegrid\")\n",
    "df[['MA10']].plot(linewidth=0.7)"
   ]
  },
  {
   "cell_type": "code",
   "execution_count": null,
   "metadata": {},
   "outputs": [],
   "source": [
    "sns.set(rc={'figure.figsize':(20, 15)})\n",
    "sns.set_style(\"whitegrid\")\n",
    "df[['MA20']].plot(linewidth=0.7)"
   ]
  },
  {
   "cell_type": "code",
   "execution_count": null,
   "metadata": {},
   "outputs": [],
   "source": [
    "#split into PredTest and PredTrain\n",
    "train = df.sample(frac=0.9, random_state = 13)\n",
    "train_idx = list(train.index)\n",
    "train.shape"
   ]
  },
  {
   "cell_type": "code",
   "execution_count": null,
   "metadata": {},
   "outputs": [],
   "source": [
    "test = df.drop(index = train_idx)\n",
    "test.shape"
   ]
  },
  {
   "cell_type": "code",
   "execution_count": null,
   "metadata": {},
   "outputs": [],
   "source": [
    "x_train, y_train = train.iloc[:,:18], train.iloc[:,18]\n",
    "x_test, y_test = test.iloc[:,:18], test.iloc[:,18]\n",
    "\n",
    "print(x_train.shape, y_train.shape)\n",
    "print(x_test.shape, y_test.shape)"
   ]
  },
  {
   "cell_type": "markdown",
   "metadata": {},
   "source": [
    "# 4 PCA for dim(H) = h"
   ]
  },
  {
   "cell_type": "code",
   "execution_count": null,
   "metadata": {},
   "outputs": [],
   "source": [
    "corr = df.iloc[:,:18].corr()\n",
    "corr.describe()"
   ]
  },
  {
   "cell_type": "code",
   "execution_count": null,
   "metadata": {},
   "outputs": [],
   "source": [
    "e, eig_vals = np.linalg.eig(corr)\n",
    "R = np.cumsum(e)/np.sum(e)\n",
    "print(min(R),max(R))"
   ]
  },
  {
   "cell_type": "code",
   "execution_count": null,
   "metadata": {
    "scrolled": false
   },
   "outputs": [],
   "source": [
    "eigen = np.sort(e)[::-1]\n",
    "N = len(eigen)\n",
    "\n",
    "fig = plt.figure(figsize = (8,8))\n",
    "ax = fig.add_subplot(111)\n",
    "ax.plot(np.arange(N), eigen) \n",
    "ax.set(title='Lj versus j', ylabel='Lj', xlabel='j')\n",
    "plt.show()"
   ]
  },
  {
   "cell_type": "code",
   "execution_count": null,
   "metadata": {},
   "outputs": [],
   "source": [
    "R=np.empty(N)\n",
    "for i in np.arange(N):\n",
    "    R[i]=sum(eigen[:i])/N\n",
    "#print(R[5:])\n",
    "fig = plt.figure(figsize = (10,10))\n",
    "ax = fig.add_subplot(111)\n",
    "ax.plot(np.arange(N), R) \n",
    "ax.set(title='Rj versus j', ylabel='Rj', xlabel='j')\n",
    "plt.show()"
   ]
  },
  {
   "cell_type": "code",
   "execution_count": null,
   "metadata": {},
   "outputs": [],
   "source": [
    "for i in range(N):\n",
    "    if R[i]>=0.95:\n",
    "        min_r = i\n",
    "        break\n",
    "print(min_r, R[min_r])"
   ]
  },
  {
   "cell_type": "code",
   "execution_count": null,
   "metadata": {},
   "outputs": [],
   "source": [
    "for i in range(N):\n",
    "    if R[i]>=0.99:\n",
    "        min_r = i\n",
    "        break\n",
    "print(min_r, R[min_r])"
   ]
  },
  {
   "cell_type": "code",
   "execution_count": null,
   "metadata": {},
   "outputs": [],
   "source": [
    "for i in range(N):\n",
    "    if R[i]>=0.995:\n",
    "        min_r = i\n",
    "        break\n",
    "print(min_r, R[min_r])"
   ]
  },
  {
   "cell_type": "code",
   "execution_count": null,
   "metadata": {},
   "outputs": [],
   "source": [
    "for i in range(N):\n",
    "    if R[i]>=0.996:\n",
    "        min_r = i\n",
    "        break\n",
    "print(min_r, R[min_r])"
   ]
  },
  {
   "cell_type": "code",
   "execution_count": null,
   "metadata": {},
   "outputs": [],
   "source": [
    "#Number of weights\n",
    "for i in range(N):\n",
    "    if R[i]>=0.95:\n",
    "        min_r = i\n",
    "        break\n",
    "w = 18*h + h + h + 1\n",
    "print('w =',w)"
   ]
  },
  {
   "cell_type": "markdown",
   "metadata": {},
   "source": [
    "## 5 MLP predictor"
   ]
  },
  {
   "cell_type": "code",
   "execution_count": null,
   "metadata": {},
   "outputs": [],
   "source": [
    "xn_tr = x_train.shape[0]\n",
    "xn_ts = x_test.shape[0]\n",
    "yn_tr = y_train.shape[0]\n",
    "yn_ts = y_test.shape[0]\n",
    "h=2 # same model will be recontrcucted with h=3,4,10"
   ]
  },
  {
   "cell_type": "code",
   "execution_count": null,
   "metadata": {},
   "outputs": [],
   "source": [
    "y_train = np.reshape(y_train.values,(yn_tr, 1))\n",
    "y_test = np.reshape(y_test.values,(yn_ts, 1))"
   ]
  },
  {
   "cell_type": "code",
   "execution_count": null,
   "metadata": {
    "scrolled": true
   },
   "outputs": [],
   "source": [
    "mlp = Sequential()\n",
    "mlp.add(Dense(h, activation='relu', input_dim=18, bias_initializer='glorot_normal'))\n",
    "mlp.add(Dense(1, activation='relu', bias_initializer='glorot_normal'))\n",
    "mlp.summary()"
   ]
  },
  {
   "cell_type": "code",
   "execution_count": null,
   "metadata": {},
   "outputs": [],
   "source": [
    "mlp.compile(optimizer='adam', loss='mean_squared_error')"
   ]
  },
  {
   "cell_type": "code",
   "execution_count": null,
   "metadata": {},
   "outputs": [],
   "source": [
    "class mlpMyHistory(callbacks.Callback):\n",
    "    def on_train_begin(self, logs={}):\n",
    "        self.MSEtrain = []\n",
    "        self.MSEtest = []\n",
    "    def on_batch_end(self, batch, logs={}):\n",
    "        self.MSEtrain.append(self.model.evaluate(x_train,y_train,verbose = 0))\n",
    "        self.MSEtest.append(self.model.evaluate(x_test,y_test,verbose = 0))\n",
    "\n",
    "mlpMyMonitor = mlpMyHistory()\n",
    "\n",
    "es = callbacks.EarlyStopping(monitor='val_loss', mode='min', verbose=1, patience=50, restore_best_weights=True)"
   ]
  },
  {
   "cell_type": "code",
   "execution_count": null,
   "metadata": {},
   "outputs": [],
   "source": [
    "mlpMonitor = mlp.fit(x_train, y_train, epochs=200, batch_size=32, callbacks = [mlpMyMonitor, es], \n",
    "                     validation_data = (x_test, y_test), verbose = 2)"
   ]
  },
  {
   "cell_type": "code",
   "execution_count": null,
   "metadata": {},
   "outputs": [],
   "source": [
    "mlpmsetrain = mlpMyMonitor.MSEtrain\n",
    "mlpmsetest = mlpMyMonitor.MSEtest\n",
    "Rmsetr = np.sqrt(mlpmsetrain)\n",
    "Rmsets = np.sqrt(mlpmsetest)"
   ]
  },
  {
   "cell_type": "code",
   "execution_count": null,
   "metadata": {},
   "outputs": [],
   "source": [
    "plt.figure(figsize=(10,8))\n",
    "plt.plot(Rmsetr, color='blue', label='Train')\n",
    "plt.plot(Rmsets, color='green', label='Test')\n",
    "plt.legend()\n",
    "plt.grid(True)"
   ]
  },
  {
   "cell_type": "code",
   "execution_count": null,
   "metadata": {
    "scrolled": false
   },
   "outputs": [],
   "source": [
    "pl = pd.DataFrame(mlpMonitor.history)\n",
    "pl.plot(figsize=(15,8))\n",
    "plt.grid(True)"
   ]
  },
  {
   "cell_type": "code",
   "execution_count": null,
   "metadata": {},
   "outputs": [],
   "source": [
    "predtr = mlp.predict(x_train)\n",
    "predts = mlp.predict(x_test)"
   ]
  },
  {
   "cell_type": "code",
   "execution_count": null,
   "metadata": {},
   "outputs": [],
   "source": [
    "plt.figure(figsize=(20,20))\n",
    "plt.plot(y_train, color='blue', label='True value')\n",
    "plt.plot(predtr, color='green', label='Predicted value')\n",
    "plt.legend()\n",
    "plt.grid(True)"
   ]
  },
  {
   "cell_type": "code",
   "execution_count": null,
   "metadata": {
    "scrolled": false
   },
   "outputs": [],
   "source": [
    "plt.figure(figsize=(10,8))\n",
    "plt.plot(y_test, color='blue', label='True value')\n",
    "plt.plot(predts, color='green', label='Predicted value')\n",
    "plt.legend()\n",
    "plt.grid(True)"
   ]
  },
  {
   "cell_type": "markdown",
   "metadata": {},
   "source": [
    "MREP"
   ]
  },
  {
   "cell_type": "code",
   "execution_count": null,
   "metadata": {},
   "outputs": [],
   "source": [
    "from scipy.stats import t\n",
    "MREP_train = np.mean(np.abs(predtr-y_train)/y_train)\n",
    "MREP_test = np.mean(np.abs(predts-y_test)/y_test)\n",
    "\n",
    "sd_train = np.std(np.abs(predtr-y_train)/y_train)\n",
    "sd_test = np.std(np.abs(predts-y_test)/y_test)\n",
    "\n",
    "CI_train = MREP_train + np.array([-1,1])*t.ppf(1.95/2,df=888-1)*sd_train/np.sqrt(888)\n",
    "CI_test = MREP_test + np.array([-1,1])*t.ppf(1.95/2,df=99-1)*sd_test/np.sqrt(99)\n",
    "\n",
    "print('MREP(train) = ',MREP_train)\n",
    "print('MREP(train) 95% CI: ',CI_train)\n",
    "\n",
    "print('MREP(test) = ',MREP_test)\n",
    "print('MREP(test) 95% CI: ',CI_test)"
   ]
  },
  {
   "cell_type": "markdown",
   "metadata": {},
   "source": [
    "## 6 Hidden layer activity"
   ]
  },
  {
   "cell_type": "code",
   "execution_count": null,
   "metadata": {},
   "outputs": [],
   "source": [
    "htrain = mlp.layers[0](x_train.values).numpy()"
   ]
  },
  {
   "cell_type": "code",
   "execution_count": null,
   "metadata": {
    "scrolled": true
   },
   "outputs": [],
   "source": [
    "Yj = np.mean(htrain, axis = 0)"
   ]
  },
  {
   "cell_type": "code",
   "execution_count": null,
   "metadata": {},
   "outputs": [],
   "source": [
    "Wj=mlp.layers[0].get_weights()[1]"
   ]
  },
  {
   "cell_type": "code",
   "execution_count": null,
   "metadata": {},
   "outputs": [],
   "source": [
    "IMP = Yj*Wj"
   ]
  },
  {
   "cell_type": "markdown",
   "metadata": {},
   "source": [
    "## 7 Input Features"
   ]
  },
  {
   "cell_type": "code",
   "execution_count": null,
   "metadata": {},
   "outputs": [],
   "source": [
    "INPut = x_train.values\n",
    "INP = pd.DataFrame(INPut.mean(axis=0))"
   ]
  },
  {
   "cell_type": "code",
   "execution_count": null,
   "metadata": {},
   "outputs": [],
   "source": [
    "U = mlp.layers[0].get_weights()[0]"
   ]
  },
  {
   "cell_type": "code",
   "execution_count": null,
   "metadata": {},
   "outputs": [],
   "source": [
    "F = pd.DataFrame(np.abs(INP.reshape(18,1)*U))"
   ]
  },
  {
   "cell_type": "code",
   "execution_count": null,
   "metadata": {},
   "outputs": [],
   "source": [
    "Larg_imp = F.iloc[:,0].nlargest(5)\n",
    "Larg_imp"
   ]
  }
 ],
 "metadata": {
  "kernelspec": {
   "display_name": "Python 3",
   "language": "python",
   "name": "python3"
  },
  "language_info": {
   "codemirror_mode": {
    "name": "ipython",
    "version": 3
   },
   "file_extension": ".py",
   "mimetype": "text/x-python",
   "name": "python",
   "nbconvert_exporter": "python",
   "pygments_lexer": "ipython3",
   "version": "3.7.1"
  }
 },
 "nbformat": 4,
 "nbformat_minor": 4
}
